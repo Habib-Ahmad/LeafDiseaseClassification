{
  "nbformat": 4,
  "nbformat_minor": 0,
  "metadata": {
    "colab": {
      "name": "LeafDiseaseClassification",
      "provenance": [],
      "collapsed_sections": [],
      "authorship_tag": "ABX9TyOG84XR69E5X5BVyydYPJBb",
      "include_colab_link": true
    },
    "kernelspec": {
      "name": "python3",
      "display_name": "Python 3"
    }
  },
  "cells": [
    {
      "cell_type": "markdown",
      "metadata": {
        "id": "view-in-github",
        "colab_type": "text"
      },
      "source": [
        "<a href=\"https://colab.research.google.com/github/Habib-Ahmad/LeafDiseaseClassification/blob/main/LeafDiseaseClassification.ipynb\" target=\"_parent\"><img src=\"https://colab.research.google.com/assets/colab-badge.svg\" alt=\"Open In Colab\"/></a>"
      ]
    },
    {
      "cell_type": "code",
      "metadata": {
        "colab": {
          "base_uri": "https://localhost:8080/"
        },
        "id": "0J8TOzHRpByZ",
        "outputId": "72e4c62b-b1b7-469f-fe9d-9c9845478429"
      },
      "source": [
        "from google.colab import drive\r\n",
        "drive.mount('/content/drive')"
      ],
      "execution_count": 1,
      "outputs": [
        {
          "output_type": "stream",
          "text": [
            "Mounted at /content/drive\n"
          ],
          "name": "stdout"
        }
      ]
    },
    {
      "cell_type": "code",
      "metadata": {
        "id": "zHCNxsfs12Ks"
      },
      "source": [
        "import numpy as np\r\n",
        "import pickle\r\n",
        "import cv2\r\n",
        "from os import listdir\r\n",
        "from sklearn.preprocessing import LabelBinarizer\r\n",
        "from keras.models import Sequential\r\n",
        "from keras.layers.normalization import BatchNormalization\r\n",
        "from keras.layers.convolutional import Conv2D\r\n",
        "from keras.layers.convolutional import MaxPooling2D\r\n",
        "from keras.layers.core import Activation, Flatten, Dropout, Dense\r\n",
        "from keras import backend as K\r\n",
        "from keras.preprocessing.image import ImageDataGenerator\r\n",
        "from keras.optimizers import Adam\r\n",
        "from keras.preprocessing import image\r\n",
        "from keras.preprocessing.image import img_to_array\r\n",
        "from sklearn.preprocessing import MultiLabelBinarizer\r\n",
        "from sklearn.model_selection import train_test_split\r\n",
        "import matplotlib.pyplot as plt"
      ],
      "execution_count": 2,
      "outputs": []
    },
    {
      "cell_type": "code",
      "metadata": {
        "id": "q-sjYvN08R3I"
      },
      "source": [
        "EPOCHS = 15\r\n",
        "INIT_LR = 1e-3\r\n",
        "BS = 32\r\n",
        "default_image_size = tuple((256, 256))\r\n",
        "image_size = 0\r\n",
        "directory_root = '/content/drive/My Drive/Datasets/LeefDataSet'\r\n",
        "width=256\r\n",
        "height=256\r\n",
        "depth=3"
      ],
      "execution_count": 3,
      "outputs": []
    },
    {
      "cell_type": "code",
      "metadata": {
        "id": "cpu1rJi08jgM"
      },
      "source": [
        "def convert_image_to_array(image_dir):\r\n",
        "    try:\r\n",
        "        image = cv2.imread(image_dir)\r\n",
        "        if image is not None :\r\n",
        "            image = cv2.resize(image, default_image_size)   \r\n",
        "            return img_to_array(image)\r\n",
        "        else :\r\n",
        "            return np.array([])\r\n",
        "    except Exception as e:\r\n",
        "        print(f\"Error : {e}\")\r\n",
        "        return None"
      ],
      "execution_count": 4,
      "outputs": []
    },
    {
      "cell_type": "code",
      "metadata": {
        "id": "Nwep-zca8zqP",
        "colab": {
          "base_uri": "https://localhost:8080/"
        },
        "outputId": "9c5f25c9-6b81-4e71-e7e1-e2078ef114c2"
      },
      "source": [
        "image_list, label_list = [], []\r\n",
        "try:\r\n",
        "    print(\"[INFO] Loading images ...\")\r\n",
        "    root_dir = listdir(directory_root)\r\n",
        "    for directory in root_dir :\r\n",
        "        # remove .DS_Store from list\r\n",
        "        if directory == \".DS_Store\" :\r\n",
        "            root_dir.remove(directory)\r\n",
        "\r\n",
        "    for plant_folder in root_dir :\r\n",
        "        plant_disease_folder_list = listdir(f\"{directory_root}/{plant_folder}\")\r\n",
        "        \r\n",
        "        for disease_folder in plant_disease_folder_list :\r\n",
        "            # remove .DS_Store from list\r\n",
        "            if disease_folder == \".DS_Store\" :\r\n",
        "                plant_disease_folder_list.remove(disease_folder)\r\n",
        "\r\n",
        "        for plant_disease_folder in plant_disease_folder_list:\r\n",
        "            print(f\"[INFO] Processing {plant_disease_folder} ...\")\r\n",
        "            plant_disease_image_list = listdir(f\"{directory_root}/{plant_folder}/{plant_disease_folder}/\")\r\n",
        "                \r\n",
        "            for single_plant_disease_image in plant_disease_image_list :\r\n",
        "                if single_plant_disease_image == \".DS_Store\" :\r\n",
        "                    plant_disease_image_list.remove(single_plant_disease_image)\r\n",
        "\r\n",
        "            for image in plant_disease_image_list[:200]:\r\n",
        "                image_directory = f\"{directory_root}/{plant_folder}/{plant_disease_folder}/{image}\"\r\n",
        "                if image_directory.endswith(\".jpg\") == True or image_directory.endswith(\".JPG\") == True:\r\n",
        "                    image_list.append(convert_image_to_array(image_directory))\r\n",
        "                    label_list.append(plant_disease_folder)\r\n",
        "    print(\"[INFO] Image loading completed\")  \r\n",
        "except Exception as e:\r\n",
        "    print(f\"Error : {e}\")"
      ],
      "execution_count": 5,
      "outputs": [
        {
          "output_type": "stream",
          "text": [
            "[INFO] Loading images ...\n",
            "[INFO] Processing Tomato_Early_blight ...\n",
            "[INFO] Processing Tomato_Bacterial_spot ...\n",
            "[INFO] Processing Tomato_Septoria_leaf_spot ...\n",
            "[INFO] Processing Tomato_Spider_mites_Two_spotted_spider_mite ...\n",
            "[INFO] Processing Tomato__Tomato_YellowLeaf__Curl_Virus ...\n",
            "[INFO] Processing Tomato_healthy ...\n",
            "[INFO] Processing Tomato__Target_Spot ...\n",
            "[INFO] Processing Tomato_Late_blight ...\n",
            "[INFO] Processing Tomato_Leaf_Mold ...\n",
            "[INFO] Processing Tomato__Tomato_mosaic_virus ...\n",
            "[INFO] Processing Pepper__bell___Bacterial_spot ...\n",
            "[INFO] Processing Potato___Late_blight ...\n",
            "[INFO] Processing Pepper__bell___healthy ...\n",
            "[INFO] Processing Potato___Early_blight ...\n",
            "[INFO] Processing Potato___healthy ...\n",
            "[INFO] Image loading completed\n"
          ],
          "name": "stdout"
        }
      ]
    },
    {
      "cell_type": "code",
      "metadata": {
        "id": "2IJwgsjlIS0V"
      },
      "source": [
        "image_size = len(image_list)"
      ],
      "execution_count": 6,
      "outputs": []
    },
    {
      "cell_type": "code",
      "metadata": {
        "id": "9J74PigRIZrE"
      },
      "source": [
        "label_binarizer = LabelBinarizer()\r\n",
        "image_labels = label_binarizer.fit_transform(label_list)\r\n",
        "pickle.dump(label_binarizer,open('label_transform.pkl', 'wb'))\r\n",
        "n_classes = len(label_binarizer.classes_)"
      ],
      "execution_count": 7,
      "outputs": []
    },
    {
      "cell_type": "code",
      "metadata": {
        "colab": {
          "base_uri": "https://localhost:8080/"
        },
        "id": "VrM2I5xtIard",
        "outputId": "d6585b1f-c59b-4e2a-f6f0-437364134a41"
      },
      "source": [
        "print(label_binarizer.classes_)"
      ],
      "execution_count": 8,
      "outputs": [
        {
          "output_type": "stream",
          "text": [
            "['Pepper__bell___Bacterial_spot' 'Pepper__bell___healthy'\n",
            " 'Potato___Early_blight' 'Potato___Late_blight' 'Potato___healthy'\n",
            " 'Tomato_Bacterial_spot' 'Tomato_Early_blight' 'Tomato_Late_blight'\n",
            " 'Tomato_Leaf_Mold' 'Tomato_Septoria_leaf_spot'\n",
            " 'Tomato_Spider_mites_Two_spotted_spider_mite' 'Tomato__Target_Spot'\n",
            " 'Tomato__Tomato_YellowLeaf__Curl_Virus' 'Tomato__Tomato_mosaic_virus'\n",
            " 'Tomato_healthy']\n"
          ],
          "name": "stdout"
        }
      ]
    },
    {
      "cell_type": "code",
      "metadata": {
        "id": "e2GaUD5CIazt"
      },
      "source": [
        "np_image_list = np.array(image_list, dtype=np.float16) / 225.0"
      ],
      "execution_count": 9,
      "outputs": []
    },
    {
      "cell_type": "code",
      "metadata": {
        "colab": {
          "base_uri": "https://localhost:8080/"
        },
        "id": "8zhvFVEaIa7x",
        "outputId": "142653b2-9742-4ef9-b5b7-9686202bdd0e"
      },
      "source": [
        "print(\"[INFO] Spliting data to train, test\")\r\n",
        "x_train, x_test, y_train, y_test = train_test_split(np_image_list, image_labels, test_size=0.2, random_state = 42)"
      ],
      "execution_count": 10,
      "outputs": [
        {
          "output_type": "stream",
          "text": [
            "[INFO] Spliting data to train, test\n"
          ],
          "name": "stdout"
        }
      ]
    },
    {
      "cell_type": "code",
      "metadata": {
        "id": "E0J3ylbnIbD3"
      },
      "source": [
        "aug = ImageDataGenerator(\r\n",
        "    rotation_range=25, width_shift_range=0.1,\r\n",
        "    height_shift_range=0.1, shear_range=0.2, \r\n",
        "    zoom_range=0.2,horizontal_flip=True, \r\n",
        "    fill_mode=\"nearest\")"
      ],
      "execution_count": 11,
      "outputs": []
    },
    {
      "cell_type": "code",
      "metadata": {
        "id": "Bc1jq-07IbLI"
      },
      "source": [
        "model = Sequential()\r\n",
        "inputShape = (height, width, depth)\r\n",
        "chanDim = -1\r\n",
        "if K.image_data_format() == \"channels_first\":\r\n",
        "    inputShape = (depth, height, width)\r\n",
        "    chanDim = 1\r\n",
        "model.add(Conv2D(32, (3, 3), padding=\"same\",input_shape=inputShape))\r\n",
        "model.add(Activation(\"relu\"))\r\n",
        "model.add(BatchNormalization(axis=chanDim))\r\n",
        "model.add(MaxPooling2D(pool_size=(3, 3)))\r\n",
        "model.add(Dropout(0.25))\r\n",
        "model.add(Conv2D(64, (3, 3), padding=\"same\"))\r\n",
        "model.add(Activation(\"relu\"))\r\n",
        "model.add(BatchNormalization(axis=chanDim))\r\n",
        "model.add(Conv2D(64, (3, 3), padding=\"same\"))\r\n",
        "model.add(Activation(\"relu\"))\r\n",
        "model.add(BatchNormalization(axis=chanDim))\r\n",
        "model.add(MaxPooling2D(pool_size=(2, 2)))\r\n",
        "model.add(Dropout(0.25))\r\n",
        "model.add(Conv2D(128, (3, 3), padding=\"same\"))\r\n",
        "model.add(Activation(\"relu\"))\r\n",
        "model.add(BatchNormalization(axis=chanDim))\r\n",
        "model.add(Conv2D(128, (3, 3), padding=\"same\"))\r\n",
        "model.add(Activation(\"relu\"))\r\n",
        "model.add(BatchNormalization(axis=chanDim))\r\n",
        "model.add(MaxPooling2D(pool_size=(2, 2)))\r\n",
        "model.add(Dropout(0.25))\r\n",
        "model.add(Flatten())\r\n",
        "model.add(Dense(1024))\r\n",
        "model.add(Activation(\"relu\"))\r\n",
        "model.add(BatchNormalization())\r\n",
        "model.add(Dropout(0.5))\r\n",
        "model.add(Dense(n_classes))\r\n",
        "model.add(Activation(\"softmax\"))"
      ],
      "execution_count": 12,
      "outputs": []
    },
    {
      "cell_type": "code",
      "metadata": {
        "colab": {
          "base_uri": "https://localhost:8080/"
        },
        "id": "SeecFNVoIbQ-",
        "outputId": "65a0021d-77e8-4764-8f0f-4ea8ae4d9bb2"
      },
      "source": [
        "model.summary()"
      ],
      "execution_count": 13,
      "outputs": [
        {
          "output_type": "stream",
          "text": [
            "Model: \"sequential\"\n",
            "_________________________________________________________________\n",
            "Layer (type)                 Output Shape              Param #   \n",
            "=================================================================\n",
            "conv2d (Conv2D)              (None, 256, 256, 32)      896       \n",
            "_________________________________________________________________\n",
            "activation (Activation)      (None, 256, 256, 32)      0         \n",
            "_________________________________________________________________\n",
            "batch_normalization (BatchNo (None, 256, 256, 32)      128       \n",
            "_________________________________________________________________\n",
            "max_pooling2d (MaxPooling2D) (None, 85, 85, 32)        0         \n",
            "_________________________________________________________________\n",
            "dropout (Dropout)            (None, 85, 85, 32)        0         \n",
            "_________________________________________________________________\n",
            "conv2d_1 (Conv2D)            (None, 85, 85, 64)        18496     \n",
            "_________________________________________________________________\n",
            "activation_1 (Activation)    (None, 85, 85, 64)        0         \n",
            "_________________________________________________________________\n",
            "batch_normalization_1 (Batch (None, 85, 85, 64)        256       \n",
            "_________________________________________________________________\n",
            "conv2d_2 (Conv2D)            (None, 85, 85, 64)        36928     \n",
            "_________________________________________________________________\n",
            "activation_2 (Activation)    (None, 85, 85, 64)        0         \n",
            "_________________________________________________________________\n",
            "batch_normalization_2 (Batch (None, 85, 85, 64)        256       \n",
            "_________________________________________________________________\n",
            "max_pooling2d_1 (MaxPooling2 (None, 42, 42, 64)        0         \n",
            "_________________________________________________________________\n",
            "dropout_1 (Dropout)          (None, 42, 42, 64)        0         \n",
            "_________________________________________________________________\n",
            "conv2d_3 (Conv2D)            (None, 42, 42, 128)       73856     \n",
            "_________________________________________________________________\n",
            "activation_3 (Activation)    (None, 42, 42, 128)       0         \n",
            "_________________________________________________________________\n",
            "batch_normalization_3 (Batch (None, 42, 42, 128)       512       \n",
            "_________________________________________________________________\n",
            "conv2d_4 (Conv2D)            (None, 42, 42, 128)       147584    \n",
            "_________________________________________________________________\n",
            "activation_4 (Activation)    (None, 42, 42, 128)       0         \n",
            "_________________________________________________________________\n",
            "batch_normalization_4 (Batch (None, 42, 42, 128)       512       \n",
            "_________________________________________________________________\n",
            "max_pooling2d_2 (MaxPooling2 (None, 21, 21, 128)       0         \n",
            "_________________________________________________________________\n",
            "dropout_2 (Dropout)          (None, 21, 21, 128)       0         \n",
            "_________________________________________________________________\n",
            "flatten (Flatten)            (None, 56448)             0         \n",
            "_________________________________________________________________\n",
            "dense (Dense)                (None, 1024)              57803776  \n",
            "_________________________________________________________________\n",
            "activation_5 (Activation)    (None, 1024)              0         \n",
            "_________________________________________________________________\n",
            "batch_normalization_5 (Batch (None, 1024)              4096      \n",
            "_________________________________________________________________\n",
            "dropout_3 (Dropout)          (None, 1024)              0         \n",
            "_________________________________________________________________\n",
            "dense_1 (Dense)              (None, 15)                15375     \n",
            "_________________________________________________________________\n",
            "activation_6 (Activation)    (None, 15)                0         \n",
            "=================================================================\n",
            "Total params: 58,102,671\n",
            "Trainable params: 58,099,791\n",
            "Non-trainable params: 2,880\n",
            "_________________________________________________________________\n"
          ],
          "name": "stdout"
        }
      ]
    },
    {
      "cell_type": "code",
      "metadata": {
        "colab": {
          "base_uri": "https://localhost:8080/"
        },
        "id": "MvhLdVNOIbW3",
        "outputId": "2b59d9d8-f602-4b87-92ae-d8b33cc6ba81"
      },
      "source": [
        "opt = Adam(lr=INIT_LR, decay=INIT_LR / EPOCHS)\r\n",
        "# distribution\r\n",
        "model.compile(loss=\"binary_crossentropy\", optimizer=opt,metrics=[\"accuracy\"])\r\n",
        "# train the network\r\n",
        "print(\"[INFO] training network...\")"
      ],
      "execution_count": 14,
      "outputs": [
        {
          "output_type": "stream",
          "text": [
            "[INFO] training network...\n"
          ],
          "name": "stdout"
        }
      ]
    },
    {
      "cell_type": "code",
      "metadata": {
        "colab": {
          "base_uri": "https://localhost:8080/"
        },
        "id": "RfzT5dHzIbcN",
        "outputId": "532739f3-cee2-48b6-8a87-6f8137158524"
      },
      "source": [
        "history = model.fit_generator(\r\n",
        "    aug.flow(x_train, y_train, batch_size=BS),\r\n",
        "    validation_data=(x_test, y_test),\r\n",
        "    steps_per_epoch=len(x_train) // BS,\r\n",
        "    epochs=EPOCHS, verbose=1\r\n",
        "    )"
      ],
      "execution_count": 15,
      "outputs": [
        {
          "output_type": "stream",
          "text": [
            "/usr/local/lib/python3.6/dist-packages/tensorflow/python/keras/engine/training.py:1844: UserWarning: `Model.fit_generator` is deprecated and will be removed in a future version. Please use `Model.fit`, which supports generators.\n",
            "  warnings.warn('`Model.fit_generator` is deprecated and '\n"
          ],
          "name": "stderr"
        },
        {
          "output_type": "stream",
          "text": [
            "Epoch 1/15\n",
            "73/73 [==============================] - 418s 6s/step - loss: 0.7653 - accuracy: 0.1877 - val_loss: 0.5706 - val_accuracy: 0.0761\n",
            "Epoch 2/15\n",
            "73/73 [==============================] - 417s 6s/step - loss: 0.2675 - accuracy: 0.3212 - val_loss: 0.4648 - val_accuracy: 0.0643\n",
            "Epoch 3/15\n",
            "73/73 [==============================] - 416s 6s/step - loss: 0.1604 - accuracy: 0.5667 - val_loss: 0.7202 - val_accuracy: 0.1015\n",
            "Epoch 4/15\n",
            "73/73 [==============================] - 417s 6s/step - loss: 0.1527 - accuracy: 0.5962 - val_loss: 0.6399 - val_accuracy: 0.0863\n",
            "Epoch 5/15\n",
            "73/73 [==============================] - 416s 6s/step - loss: 0.1321 - accuracy: 0.6607 - val_loss: 3.0991 - val_accuracy: 0.0694\n",
            "Epoch 6/15\n",
            "73/73 [==============================] - 419s 6s/step - loss: 0.1266 - accuracy: 0.6705 - val_loss: 0.8256 - val_accuracy: 0.1337\n",
            "Epoch 7/15\n",
            "73/73 [==============================] - 417s 6s/step - loss: 0.1097 - accuracy: 0.7244 - val_loss: 0.7484 - val_accuracy: 0.3418\n",
            "Epoch 8/15\n",
            "73/73 [==============================] - 416s 6s/step - loss: 0.1458 - accuracy: 0.6510 - val_loss: 0.8017 - val_accuracy: 0.2487\n",
            "Epoch 9/15\n",
            "73/73 [==============================] - 414s 6s/step - loss: 0.1157 - accuracy: 0.7121 - val_loss: 0.1924 - val_accuracy: 0.5618\n",
            "Epoch 10/15\n",
            "73/73 [==============================] - 415s 6s/step - loss: 0.0928 - accuracy: 0.7892 - val_loss: 0.8566 - val_accuracy: 0.3418\n",
            "Epoch 11/15\n",
            "73/73 [==============================] - 414s 6s/step - loss: 0.0971 - accuracy: 0.7757 - val_loss: 0.4053 - val_accuracy: 0.4196\n",
            "Epoch 12/15\n",
            "73/73 [==============================] - 413s 6s/step - loss: 0.0880 - accuracy: 0.7880 - val_loss: 0.2900 - val_accuracy: 0.4619\n",
            "Epoch 13/15\n",
            "73/73 [==============================] - 414s 6s/step - loss: 0.0842 - accuracy: 0.8049 - val_loss: 0.3282 - val_accuracy: 0.4467\n",
            "Epoch 14/15\n",
            "73/73 [==============================] - 415s 6s/step - loss: 0.0789 - accuracy: 0.8148 - val_loss: 0.1849 - val_accuracy: 0.6396\n",
            "Epoch 15/15\n",
            "73/73 [==============================] - 417s 6s/step - loss: 0.0699 - accuracy: 0.8507 - val_loss: 0.2456 - val_accuracy: 0.5279\n"
          ],
          "name": "stdout"
        }
      ]
    },
    {
      "cell_type": "code",
      "metadata": {
        "id": "UtKOKSr4IbiL",
        "colab": {
          "base_uri": "https://localhost:8080/",
          "height": 545
        },
        "outputId": "82709e61-602b-4ff9-c6cb-74b75529c384"
      },
      "source": [
        "acc = history.history['accuracy']\r\n",
        "val_acc = history.history['val_accuracy']\r\n",
        "loss = history.history['loss']\r\n",
        "val_loss = history.history['val_loss']\r\n",
        "epochs = range(1, len(acc) + 1)\r\n",
        "#Train and validation accuracy\r\n",
        "plt.plot(epochs, acc, 'b', label='Training accurarcy')\r\n",
        "plt.plot(epochs, val_acc, 'r', label='Validation accurarcy')\r\n",
        "plt.title('Training and Validation accurarcy')\r\n",
        "plt.legend()\r\n",
        "\r\n",
        "plt.figure()\r\n",
        "#Train and validation loss\r\n",
        "plt.plot(epochs, loss, 'b', label='Training loss')\r\n",
        "plt.plot(epochs, val_loss, 'r', label='Validation loss')\r\n",
        "plt.title('Training and Validation loss')\r\n",
        "plt.legend()\r\n",
        "plt.show()"
      ],
      "execution_count": 16,
      "outputs": [
        {
          "output_type": "display_data",
          "data": {
            "image/png": "[encoded data removed]",
            "text/plain": [
              "<Figure size 432x288 with 1 Axes>"
            ]
          },
          "metadata": {
            "tags": [],
            "needs_background": "light"
          }
        },
        {
          "output_type": "display_data",
          "data": {
            "image/png": "[encoded data removed]",
            "text/plain": [
              "<Figure size 432x288 with 1 Axes>"
            ]
          },
          "metadata": {
            "tags": [],
            "needs_background": "light"
          }
        }
      ]
    },
    {
      "cell_type": "code",
      "metadata": {
        "id": "NcQ678v9Ibng",
        "colab": {
          "base_uri": "https://localhost:8080/"
        },
        "outputId": "9fd732ff-9cb6-4545-863c-5fb083a4d912"
      },
      "source": [
        "print(\"[INFO] Calculating model accuracy\")\r\n",
        "scores = model.evaluate(x_test, y_test)\r\n",
        "print(f\"Test Accuracy: {scores[1]*100}\")"
      ],
      "execution_count": 17,
      "outputs": [
        {
          "output_type": "stream",
          "text": [
            "[INFO] Calculating model accuracy\n",
            "19/19 [==============================] - 20s 1s/step - loss: 0.2456 - accuracy: 0.5279\n",
            "Test Accuracy: 52.79187560081482\n"
          ],
          "name": "stdout"
        }
      ]
    },
    {
      "cell_type": "code",
      "metadata": {
        "id": "OV1i91_rI6BU",
        "colab": {
          "base_uri": "https://localhost:8080/"
        },
        "outputId": "df514670-4e56-48fa-961e-eda2d2a028e9"
      },
      "source": [
        "image_dir=\"/content/drive/MyDrive/Datasets/LeefDataSet/PlantVillage/Potato___Early_blight/001187a0-57ab-4329-baff-e7246a9edeb0___RS_Early.B 8178.JPG\"\r\n",
        "\r\n",
        "im=convert_image_to_array(image_dir)\r\n",
        "np_image_li = np.array(im, dtype=np.float16) / 225.0\r\n",
        "npp_image = np.expand_dims(np_image_li, axis=0)\r\n",
        "print(image_dir)"
      ],
      "execution_count": 18,
      "outputs": [
        {
          "output_type": "stream",
          "text": [
            "/content/drive/MyDrive/Datasets/LeefDataSet/PlantVillage/Potato___Early_blight/001187a0-57ab-4329-baff-e7246a9edeb0___RS_Early.B 8178.JPG\n"
          ],
          "name": "stdout"
        }
      ]
    },
    {
      "cell_type": "code",
      "metadata": {
        "id": "00t67LEhl8n5",
        "colab": {
          "base_uri": "https://localhost:8080/"
        },
        "outputId": "ca127044-4005-4c63-a894-4c13f5aea40f"
      },
      "source": [
        "result=model.predict(npp_image)\r\n",
        "\r\n",
        "print(result)"
      ],
      "execution_count": 19,
      "outputs": [
        {
          "output_type": "stream",
          "text": [
            "[[2.09426226e-11 1.23865284e-11 9.99998689e-01 1.31360331e-12\n",
            "  1.65163000e-12 2.70655960e-08 3.81527229e-07 1.00515392e-08\n",
            "  3.13712278e-10 4.46006038e-10 3.05780706e-10 1.36920217e-12\n",
            "  8.15912615e-11 2.44976222e-15 9.69152325e-07]]\n"
          ],
          "name": "stdout"
        }
      ]
    },
    {
      "cell_type": "code",
      "metadata": {
        "id": "kVnZMe2kmBsg",
        "colab": {
          "base_uri": "https://localhost:8080/"
        },
        "outputId": "2744e9a7-d68a-40b2-ceda-f8d771fe0203"
      },
      "source": [
        "itemindex = np.where(result==np.max(result))\r\n",
        "print(\"probability:\"+str(np.max(result))+\"\\n\"+label_binarizer.classes_[itemindex[1][0]])"
      ],
      "execution_count": 20,
      "outputs": [
        {
          "output_type": "stream",
          "text": [
            "probability:0.9999987\n",
            "Potato___Early_blight\n"
          ],
          "name": "stdout"
        }
      ]
    },
    {
      "cell_type": "code",
      "metadata": {
        "id": "mBfkC50Dnopv"
      },
      "source": [
        ""
      ],
      "execution_count": 20,
      "outputs": []
    }
  ]
}